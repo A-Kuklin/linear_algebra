{
 "cells": [
  {
   "cell_type": "markdown",
   "metadata": {},
   "source": [
    "# Защита персональных данных клиентов"
   ]
  },
  {
   "cell_type": "markdown",
   "metadata": {},
   "source": [
    "Вам нужно защитить данные клиентов страховой компании «Хоть потоп».  \n",
    "Разработайте такой метод преобразования данных, чтобы по ним было сложно восстановить персональную информацию.  \n",
    "Обоснуйте корректность его работы.  \n",
    "\n",
    "**Нужно защитить данные, чтобы при преобразовании качество моделей машинного обучения не ухудшилось.**  \n",
    "Подбирать наилучшую модель не требуется.  "
   ]
  },
  {
   "cell_type": "markdown",
   "metadata": {},
   "source": [
    "## Загрузка, анализ и подготовка данных"
   ]
  },
  {
   "cell_type": "code",
   "execution_count": 1,
   "metadata": {},
   "outputs": [],
   "source": [
    "import sklearn\n",
    "import numpy as np\n",
    "import pandas as pd\n",
    "from sklearn.metrics import r2_score\n",
    "from sklearn.linear_model import LinearRegression"
   ]
  },
  {
   "cell_type": "code",
   "execution_count": 2,
   "metadata": {},
   "outputs": [],
   "source": [
    "data = pd.read_csv('insurance.csv')"
   ]
  },
  {
   "cell_type": "code",
   "execution_count": 3,
   "metadata": {},
   "outputs": [
    {
     "name": "stdout",
     "output_type": "stream",
     "text": [
      "<class 'pandas.core.frame.DataFrame'>\n",
      "RangeIndex: 5000 entries, 0 to 4999\n",
      "Data columns (total 5 columns):\n",
      " #   Column             Non-Null Count  Dtype  \n",
      "---  ------             --------------  -----  \n",
      " 0   Пол                5000 non-null   int64  \n",
      " 1   Возраст            5000 non-null   float64\n",
      " 2   Зарплата           5000 non-null   float64\n",
      " 3   Члены семьи        5000 non-null   int64  \n",
      " 4   Страховые выплаты  5000 non-null   int64  \n",
      "dtypes: float64(2), int64(3)\n",
      "memory usage: 195.4 KB\n"
     ]
    }
   ],
   "source": [
    "data.info()"
   ]
  },
  {
   "cell_type": "code",
   "execution_count": 4,
   "metadata": {},
   "outputs": [
    {
     "data": {
      "text/html": [
       "<div>\n",
       "<style scoped>\n",
       "    .dataframe tbody tr th:only-of-type {\n",
       "        vertical-align: middle;\n",
       "    }\n",
       "\n",
       "    .dataframe tbody tr th {\n",
       "        vertical-align: top;\n",
       "    }\n",
       "\n",
       "    .dataframe thead th {\n",
       "        text-align: right;\n",
       "    }\n",
       "</style>\n",
       "<table border=\"1\" class=\"dataframe\">\n",
       "  <thead>\n",
       "    <tr style=\"text-align: right;\">\n",
       "      <th></th>\n",
       "      <th>Пол</th>\n",
       "      <th>Возраст</th>\n",
       "      <th>Зарплата</th>\n",
       "      <th>Члены семьи</th>\n",
       "      <th>Страховые выплаты</th>\n",
       "    </tr>\n",
       "  </thead>\n",
       "  <tbody>\n",
       "    <tr>\n",
       "      <th>0</th>\n",
       "      <td>1</td>\n",
       "      <td>41.0</td>\n",
       "      <td>49600.0</td>\n",
       "      <td>1</td>\n",
       "      <td>0</td>\n",
       "    </tr>\n",
       "    <tr>\n",
       "      <th>1</th>\n",
       "      <td>0</td>\n",
       "      <td>46.0</td>\n",
       "      <td>38000.0</td>\n",
       "      <td>1</td>\n",
       "      <td>1</td>\n",
       "    </tr>\n",
       "    <tr>\n",
       "      <th>2</th>\n",
       "      <td>0</td>\n",
       "      <td>29.0</td>\n",
       "      <td>21000.0</td>\n",
       "      <td>0</td>\n",
       "      <td>0</td>\n",
       "    </tr>\n",
       "    <tr>\n",
       "      <th>3</th>\n",
       "      <td>0</td>\n",
       "      <td>21.0</td>\n",
       "      <td>41700.0</td>\n",
       "      <td>2</td>\n",
       "      <td>0</td>\n",
       "    </tr>\n",
       "    <tr>\n",
       "      <th>4</th>\n",
       "      <td>1</td>\n",
       "      <td>28.0</td>\n",
       "      <td>26100.0</td>\n",
       "      <td>0</td>\n",
       "      <td>0</td>\n",
       "    </tr>\n",
       "  </tbody>\n",
       "</table>\n",
       "</div>"
      ],
      "text/plain": [
       "   Пол  Возраст  Зарплата  Члены семьи  Страховые выплаты\n",
       "0    1     41.0   49600.0            1                  0\n",
       "1    0     46.0   38000.0            1                  1\n",
       "2    0     29.0   21000.0            0                  0\n",
       "3    0     21.0   41700.0            2                  0\n",
       "4    1     28.0   26100.0            0                  0"
      ]
     },
     "execution_count": 4,
     "metadata": {},
     "output_type": "execute_result"
    }
   ],
   "source": [
    "data.head(5)"
   ]
  },
  {
   "cell_type": "code",
   "execution_count": 5,
   "metadata": {},
   "outputs": [
    {
     "data": {
      "text/html": [
       "<div>\n",
       "<style scoped>\n",
       "    .dataframe tbody tr th:only-of-type {\n",
       "        vertical-align: middle;\n",
       "    }\n",
       "\n",
       "    .dataframe tbody tr th {\n",
       "        vertical-align: top;\n",
       "    }\n",
       "\n",
       "    .dataframe thead th {\n",
       "        text-align: right;\n",
       "    }\n",
       "</style>\n",
       "<table border=\"1\" class=\"dataframe\">\n",
       "  <thead>\n",
       "    <tr style=\"text-align: right;\">\n",
       "      <th></th>\n",
       "      <th>Пол</th>\n",
       "      <th>Возраст</th>\n",
       "      <th>Зарплата</th>\n",
       "      <th>Члены семьи</th>\n",
       "      <th>Страховые выплаты</th>\n",
       "    </tr>\n",
       "  </thead>\n",
       "  <tbody>\n",
       "    <tr>\n",
       "      <th>count</th>\n",
       "      <td>5000.000000</td>\n",
       "      <td>5000.000000</td>\n",
       "      <td>5000.000000</td>\n",
       "      <td>5000.000000</td>\n",
       "      <td>5000.000000</td>\n",
       "    </tr>\n",
       "    <tr>\n",
       "      <th>mean</th>\n",
       "      <td>0.499000</td>\n",
       "      <td>30.952800</td>\n",
       "      <td>39916.360000</td>\n",
       "      <td>1.194200</td>\n",
       "      <td>0.148000</td>\n",
       "    </tr>\n",
       "    <tr>\n",
       "      <th>std</th>\n",
       "      <td>0.500049</td>\n",
       "      <td>8.440807</td>\n",
       "      <td>9900.083569</td>\n",
       "      <td>1.091387</td>\n",
       "      <td>0.463183</td>\n",
       "    </tr>\n",
       "    <tr>\n",
       "      <th>min</th>\n",
       "      <td>0.000000</td>\n",
       "      <td>18.000000</td>\n",
       "      <td>5300.000000</td>\n",
       "      <td>0.000000</td>\n",
       "      <td>0.000000</td>\n",
       "    </tr>\n",
       "    <tr>\n",
       "      <th>25%</th>\n",
       "      <td>0.000000</td>\n",
       "      <td>24.000000</td>\n",
       "      <td>33300.000000</td>\n",
       "      <td>0.000000</td>\n",
       "      <td>0.000000</td>\n",
       "    </tr>\n",
       "    <tr>\n",
       "      <th>50%</th>\n",
       "      <td>0.000000</td>\n",
       "      <td>30.000000</td>\n",
       "      <td>40200.000000</td>\n",
       "      <td>1.000000</td>\n",
       "      <td>0.000000</td>\n",
       "    </tr>\n",
       "    <tr>\n",
       "      <th>75%</th>\n",
       "      <td>1.000000</td>\n",
       "      <td>37.000000</td>\n",
       "      <td>46600.000000</td>\n",
       "      <td>2.000000</td>\n",
       "      <td>0.000000</td>\n",
       "    </tr>\n",
       "    <tr>\n",
       "      <th>max</th>\n",
       "      <td>1.000000</td>\n",
       "      <td>65.000000</td>\n",
       "      <td>79000.000000</td>\n",
       "      <td>6.000000</td>\n",
       "      <td>5.000000</td>\n",
       "    </tr>\n",
       "  </tbody>\n",
       "</table>\n",
       "</div>"
      ],
      "text/plain": [
       "               Пол      Возраст      Зарплата  Члены семьи  Страховые выплаты\n",
       "count  5000.000000  5000.000000   5000.000000  5000.000000        5000.000000\n",
       "mean      0.499000    30.952800  39916.360000     1.194200           0.148000\n",
       "std       0.500049     8.440807   9900.083569     1.091387           0.463183\n",
       "min       0.000000    18.000000   5300.000000     0.000000           0.000000\n",
       "25%       0.000000    24.000000  33300.000000     0.000000           0.000000\n",
       "50%       0.000000    30.000000  40200.000000     1.000000           0.000000\n",
       "75%       1.000000    37.000000  46600.000000     2.000000           0.000000\n",
       "max       1.000000    65.000000  79000.000000     6.000000           5.000000"
      ]
     },
     "execution_count": 5,
     "metadata": {},
     "output_type": "execute_result"
    }
   ],
   "source": [
    "data.describe()"
   ]
  },
  {
   "cell_type": "markdown",
   "metadata": {},
   "source": [
    "### Столбец `Возраст` \n",
    "Приведём к типу `int`"
   ]
  },
  {
   "cell_type": "code",
   "execution_count": 6,
   "metadata": {},
   "outputs": [],
   "source": [
    "data['Возраст'] = data['Возраст'].astype('int')"
   ]
  },
  {
   "cell_type": "markdown",
   "metadata": {},
   "source": [
    "### Столбец `Зарплата` \n",
    "Приведём к типу `int`"
   ]
  },
  {
   "cell_type": "code",
   "execution_count": 7,
   "metadata": {},
   "outputs": [],
   "source": [
    "data['Зарплата'] = data['Зарплата'].astype('int')"
   ]
  },
  {
   "cell_type": "markdown",
   "metadata": {},
   "source": [
    "### Обработка дубликатов"
   ]
  },
  {
   "cell_type": "code",
   "execution_count": 8,
   "metadata": {},
   "outputs": [],
   "source": [
    "def show_duplicates(data):\n",
    "    duplicates = data.duplicated().sum()\n",
    "    print(f'Количество дубликатов: {duplicates} ({duplicates / len(data):.1%})')"
   ]
  },
  {
   "cell_type": "code",
   "execution_count": 9,
   "metadata": {},
   "outputs": [
    {
     "name": "stdout",
     "output_type": "stream",
     "text": [
      "Количество дубликатов: 153 (3.1%)\n"
     ]
    }
   ],
   "source": [
    "show_duplicates(data)"
   ]
  },
  {
   "cell_type": "code",
   "execution_count": 10,
   "metadata": {},
   "outputs": [
    {
     "name": "stdout",
     "output_type": "stream",
     "text": [
      "Количество дубликатов: 0 (0.0%)\n"
     ]
    }
   ],
   "source": [
    "data = data.drop_duplicates().reset_index(drop=True)\n",
    "show_duplicates(data)"
   ]
  },
  {
   "cell_type": "code",
   "execution_count": 11,
   "metadata": {},
   "outputs": [
    {
     "name": "stdout",
     "output_type": "stream",
     "text": [
      "<class 'pandas.core.frame.DataFrame'>\n",
      "RangeIndex: 4847 entries, 0 to 4846\n",
      "Data columns (total 5 columns):\n",
      " #   Column             Non-Null Count  Dtype\n",
      "---  ------             --------------  -----\n",
      " 0   Пол                4847 non-null   int64\n",
      " 1   Возраст            4847 non-null   int64\n",
      " 2   Зарплата           4847 non-null   int64\n",
      " 3   Члены семьи        4847 non-null   int64\n",
      " 4   Страховые выплаты  4847 non-null   int64\n",
      "dtypes: int64(5)\n",
      "memory usage: 189.5 KB\n"
     ]
    }
   ],
   "source": [
    "data.info()"
   ]
  },
  {
   "cell_type": "markdown",
   "metadata": {},
   "source": [
    "### Формирование выборок"
   ]
  },
  {
   "cell_type": "code",
   "execution_count": 12,
   "metadata": {},
   "outputs": [],
   "source": [
    "features = data.drop(['Страховые выплаты'], axis=1)\n",
    "target = data['Страховые выплаты']"
   ]
  },
  {
   "cell_type": "markdown",
   "metadata": {},
   "source": [
    "***\n",
    "### Вывод\n",
    "\n",
    "* В каждой строчке данных информация об одном заёмщике.\n",
    "* Признаки заёмщиков: «Пол», «Возраст», «Зарплата», «Члены семьи», «Страховые выплаты».\n",
    "* Привёл признаки «Возраст» и «Зарплата» к нужному типу.\n",
    "* Удалил дубликаты (3.1%).\n",
    "* Выборки сформированы.<br><br>\n",
    "***"
   ]
  },
  {
   "cell_type": "markdown",
   "metadata": {},
   "source": [
    "## Умножение матриц"
   ]
  },
  {
   "cell_type": "markdown",
   "metadata": {},
   "source": [
    "### Постановка задачи"
   ]
  },
  {
   "cell_type": "markdown",
   "metadata": {},
   "source": [
    "Обозначения:\n",
    "\n",
    "- $X$ — матрица признаков (нулевой столбец состоит из единиц)\n",
    "\n",
    "- $y$ — вектор целевого признака\n",
    "\n",
    "- $P$ — матрица, на которую умножаются признаки\n",
    "\n",
    "- $w$ — вектор весов линейной регрессии (нулевой элемент равен сдвигу)\n",
    "\n",
    "- $E$ — единичная матрица"
   ]
  },
  {
   "cell_type": "markdown",
   "metadata": {},
   "source": [
    "Предсказания:\n",
    "\n",
    "$$\n",
    "a = Xw\n",
    "$$\n",
    "\n",
    "Задача обучения:\n",
    "\n",
    "$$\n",
    "w = \\arg\\min_w MSE(Xw, y)\n",
    "$$\n",
    "\n",
    "Формула обучения:\n",
    "\n",
    "$$\n",
    "w = (X^T X)^{-1} X^T y\n",
    "$$"
   ]
  },
  {
   "cell_type": "markdown",
   "metadata": {},
   "source": [
    "**Вопрос:**  \n",
    "Признаки умножают на обратимую матрицу.  \n",
    "Изменится ли качество линейной регрессии?  \n",
    "Умножение на обратимую матрицу используется, чтобы зашифровать признаки.  "
   ]
  },
  {
   "cell_type": "code",
   "execution_count": 13,
   "metadata": {},
   "outputs": [
    {
     "data": {
      "text/html": [
       "<div>\n",
       "<style scoped>\n",
       "    .dataframe tbody tr th:only-of-type {\n",
       "        vertical-align: middle;\n",
       "    }\n",
       "\n",
       "    .dataframe tbody tr th {\n",
       "        vertical-align: top;\n",
       "    }\n",
       "\n",
       "    .dataframe thead th {\n",
       "        text-align: right;\n",
       "    }\n",
       "</style>\n",
       "<table border=\"1\" class=\"dataframe\">\n",
       "  <thead>\n",
       "    <tr style=\"text-align: right;\">\n",
       "      <th></th>\n",
       "      <th>0</th>\n",
       "      <th>1</th>\n",
       "      <th>2</th>\n",
       "      <th>3</th>\n",
       "    </tr>\n",
       "  </thead>\n",
       "  <tbody>\n",
       "    <tr>\n",
       "      <th>count</th>\n",
       "      <td>4847.000000</td>\n",
       "      <td>4847.000000</td>\n",
       "      <td>4847.000000</td>\n",
       "      <td>4847.000000</td>\n",
       "    </tr>\n",
       "    <tr>\n",
       "      <th>mean</th>\n",
       "      <td>24226.191309</td>\n",
       "      <td>-27937.145996</td>\n",
       "      <td>-64868.697622</td>\n",
       "      <td>-10028.584953</td>\n",
       "    </tr>\n",
       "    <tr>\n",
       "      <th>std</th>\n",
       "      <td>6059.532921</td>\n",
       "      <td>6990.387145</td>\n",
       "      <td>16218.677946</td>\n",
       "      <td>2507.099461</td>\n",
       "    </tr>\n",
       "    <tr>\n",
       "      <th>min</th>\n",
       "      <td>3209.297454</td>\n",
       "      <td>-55336.096952</td>\n",
       "      <td>-128458.365240</td>\n",
       "      <td>-19858.676750</td>\n",
       "    </tr>\n",
       "    <tr>\n",
       "      <th>25%</th>\n",
       "      <td>20154.391766</td>\n",
       "      <td>-32640.936962</td>\n",
       "      <td>-75775.880809</td>\n",
       "      <td>-11716.397240</td>\n",
       "    </tr>\n",
       "    <tr>\n",
       "      <th>50%</th>\n",
       "      <td>24409.041613</td>\n",
       "      <td>-28148.131960</td>\n",
       "      <td>-65360.947184</td>\n",
       "      <td>-10103.700754</td>\n",
       "    </tr>\n",
       "    <tr>\n",
       "      <th>75%</th>\n",
       "      <td>28302.260239</td>\n",
       "      <td>-23236.939725</td>\n",
       "      <td>-53977.101301</td>\n",
       "      <td>-8344.684671</td>\n",
       "    </tr>\n",
       "    <tr>\n",
       "      <th>max</th>\n",
       "      <td>47979.753787</td>\n",
       "      <td>-3696.459212</td>\n",
       "      <td>-8610.559812</td>\n",
       "      <td>-1332.947197</td>\n",
       "    </tr>\n",
       "  </tbody>\n",
       "</table>\n",
       "</div>"
      ],
      "text/plain": [
       "                  0             1              2             3\n",
       "count   4847.000000   4847.000000    4847.000000   4847.000000\n",
       "mean   24226.191309 -27937.145996  -64868.697622 -10028.584953\n",
       "std     6059.532921   6990.387145   16218.677946   2507.099461\n",
       "min     3209.297454 -55336.096952 -128458.365240 -19858.676750\n",
       "25%    20154.391766 -32640.936962  -75775.880809 -11716.397240\n",
       "50%    24409.041613 -28148.131960  -65360.947184 -10103.700754\n",
       "75%    28302.260239 -23236.939725  -53977.101301  -8344.684671\n",
       "max    47979.753787  -3696.459212   -8610.559812  -1332.947197"
      ]
     },
     "execution_count": 13,
     "metadata": {},
     "output_type": "execute_result"
    }
   ],
   "source": [
    "invertible_matrix = np.random.normal(size=(features.shape[1], features.shape[1]))\n",
    "test_features = features @ invertible_matrix\n",
    "test_features.describe()"
   ]
  },
  {
   "cell_type": "code",
   "execution_count": 14,
   "metadata": {},
   "outputs": [
    {
     "data": {
      "text/html": [
       "<div>\n",
       "<style scoped>\n",
       "    .dataframe tbody tr th:only-of-type {\n",
       "        vertical-align: middle;\n",
       "    }\n",
       "\n",
       "    .dataframe tbody tr th {\n",
       "        vertical-align: top;\n",
       "    }\n",
       "\n",
       "    .dataframe thead th {\n",
       "        text-align: right;\n",
       "    }\n",
       "</style>\n",
       "<table border=\"1\" class=\"dataframe\">\n",
       "  <thead>\n",
       "    <tr style=\"text-align: right;\">\n",
       "      <th></th>\n",
       "      <th>0</th>\n",
       "      <th>1</th>\n",
       "      <th>2</th>\n",
       "      <th>3</th>\n",
       "    </tr>\n",
       "  </thead>\n",
       "  <tbody>\n",
       "    <tr>\n",
       "      <th>0</th>\n",
       "      <td>30117.553995</td>\n",
       "      <td>-34731.306305</td>\n",
       "      <td>-80645.384912</td>\n",
       "      <td>-12469.275052</td>\n",
       "    </tr>\n",
       "    <tr>\n",
       "      <th>1</th>\n",
       "      <td>23070.029551</td>\n",
       "      <td>-26598.158185</td>\n",
       "      <td>-61779.852679</td>\n",
       "      <td>-9551.348600</td>\n",
       "    </tr>\n",
       "    <tr>\n",
       "      <th>2</th>\n",
       "      <td>12748.386067</td>\n",
       "      <td>-14697.488487</td>\n",
       "      <td>-34139.568096</td>\n",
       "      <td>-5279.090643</td>\n",
       "    </tr>\n",
       "    <tr>\n",
       "      <th>3</th>\n",
       "      <td>25326.655650</td>\n",
       "      <td>-29208.151181</td>\n",
       "      <td>-67808.171712</td>\n",
       "      <td>-10480.159218</td>\n",
       "    </tr>\n",
       "    <tr>\n",
       "      <th>4</th>\n",
       "      <td>15845.061634</td>\n",
       "      <td>-18271.677624</td>\n",
       "      <td>-42432.731800</td>\n",
       "      <td>-6563.025622</td>\n",
       "    </tr>\n",
       "  </tbody>\n",
       "</table>\n",
       "</div>"
      ],
      "text/plain": [
       "              0             1             2             3\n",
       "0  30117.553995 -34731.306305 -80645.384912 -12469.275052\n",
       "1  23070.029551 -26598.158185 -61779.852679  -9551.348600\n",
       "2  12748.386067 -14697.488487 -34139.568096  -5279.090643\n",
       "3  25326.655650 -29208.151181 -67808.171712 -10480.159218\n",
       "4  15845.061634 -18271.677624 -42432.731800  -6563.025622"
      ]
     },
     "execution_count": 14,
     "metadata": {},
     "output_type": "execute_result"
    }
   ],
   "source": [
    "test_features.head()"
   ]
  },
  {
   "cell_type": "markdown",
   "metadata": {},
   "source": [
    "Восстановить оригинальные данные без использования `invertible_matrix` невозможно.  \n",
    "Осталось проверить, что предсказания не изменятся из-за шифрования.  "
   ]
  },
  {
   "cell_type": "markdown",
   "metadata": {},
   "source": [
    "### Обоснование"
   ]
  },
  {
   "cell_type": "markdown",
   "metadata": {},
   "source": [
    "#### Предсказания (исходные данные)"
   ]
  },
  {
   "cell_type": "markdown",
   "metadata": {},
   "source": [
    "$$\n",
    "a = Xw\n",
    "$$\n",
    "<br>\n",
    "<center>где формула обучения</center>\n",
    "$$\n",
    "w = (X^T X)^{-1} X^T y\n",
    "$$\n",
    "<br>\n",
    "<center>подставим $w$ в формулу $a$</center>\n",
    "$$\n",
    "a = X (X^T X)^{-1} X^T y\n",
    "$$\n",
    "<br>\n",
    "<center>согласно свойствам обратной матрицы $ (X^T X)^{-1} = X^{-1} (X^T)^{-1} $</center>\n",
    "<center>следовательно</center>\n",
    "$$\n",
    "a = X X^{-1} (X^T)^{-1} X^T y\n",
    "$$\n",
    "<br>\n",
    "<center>согласно свойствам единичной матрицы $ X X^{-1} = E $</center>\n",
    "<center>следовательно</center>\n",
    "$$\n",
    "a = E (X^T)^{-1} X^T y\n",
    "$$\n",
    "<br>\n",
    "<center>согласно свойствам единичной матрицы $ (X^T)^{-1} X^T = E $</center>\n",
    "<center>следовательно</center>\n",
    "$$\n",
    "a = E E y\n",
    "$$\n",
    "<br>\n",
    "<center>так как $ E E = E $ и $ E y = y $</center>\n",
    "<center>следовательно</center>\n",
    "$$\n",
    "a = y\n",
    "$$"
   ]
  },
  {
   "cell_type": "markdown",
   "metadata": {},
   "source": [
    "#### Предсказания (зашифрованные данные)\n",
    "\n",
    "Аналогично предсказаниям на исходных данных"
   ]
  },
  {
   "cell_type": "markdown",
   "metadata": {},
   "source": [
    "$$\n",
    "a \\scriptscriptstyle 1 \\textstyle = XPw\\scriptscriptstyle 1\n",
    "$$\n",
    "<br>\n",
    "<center>где формула обучения</center>\n",
    "$$\n",
    "w\\scriptscriptstyle 1 \\textstyle= ((X P)^T (X P))^{-1} (X P)^T y\n",
    "$$\n",
    "<br>\n",
    "<center>подставим $w\\scriptscriptstyle 1$ в формулу $a\\scriptscriptstyle 1$</center>\n",
    "$$\n",
    "a\\scriptscriptstyle 1 \\textstyle = (X P) ((X P)^T (X P))^{-1} (X P)^T y\n",
    "$$\n",
    "<br>\n",
    "<center>согласно свойствам обратной матрицы $ ((X P)^T (X P))^{-1} = (X P)^{-1} ((X P)^T)^{-1} $</center>\n",
    "<center>следовательно</center>\n",
    "$$\n",
    "a\\scriptscriptstyle 1 \\textstyle = (X P) (X P)^{-1} ((X P)^T)^{-1} (X P)^T y\n",
    "$$\n",
    "<br>\n",
    "<center>согласно свойствам единичной матрицы $ (X P) (X P)^{-1} = E $</center>\n",
    "<center>следовательно</center>\n",
    "$$\n",
    "a\\scriptscriptstyle 1 \\textstyle = E ((X P)^T)^{-1} (X P)^T y\n",
    "$$\n",
    "<br>\n",
    "<center>согласно свойствам единичной матрицы $ ((X P)^T)^{-1} (X P)^T = E $</center>\n",
    "<center>следовательно</center>\n",
    "$$\n",
    "a\\scriptscriptstyle 1 \\textstyle = E E y\\scriptscriptstyle 1\n",
    "$$\n",
    "<br>\n",
    "<center>так как $ E E = E $ и $ E y\\scriptscriptstyle 1 \\textstyle  = y $</center>\n",
    "<center>следовательно</center>\n",
    "$$\n",
    "a\\scriptscriptstyle 1 \\textstyle = y\n",
    "$$"
   ]
  },
  {
   "cell_type": "markdown",
   "metadata": {},
   "source": [
    "**Обоснование:**\n",
    "\n",
    "Используемые свойства:\n",
    "$$ (AB)^T=B^T A^T $$\n",
    "$$ (AB)^{-1} = B^{-1} A^{-1} $$\n",
    "$$ A A^{-1} = A^{-1} A = E $$\n",
    "$$ AE = EA = A $$\n",
    "Доказать:\n",
    "$$ a = Xw = XEw = XPP^{-1}w = (XP)P^{-1}w = (XP)w' $$\n",
    "Доказательство:\n",
    "$$ w = (X^T X)^{-1} X^T y $$\n",
    "\n",
    "$$ w' = ((XP)^T XP)^{-1} (XP)^T y $$\n",
    "$$ w' = (P^T (X^T X) P)^{-1} (XP)^T y $$\n",
    "<div class=\"alert alert-info\">\n",
    "<center>Согласно свойству $ (AB)^{-1} = B^{-1} A^{-1} $</center>\n",
    "$$ w' = P^{-1} (X^T X)^{-1} (P^T)^{-1} P^T X^T y $$\n",
    "<br>\n",
    "<center>Согласно свойству $ A A^{-1} = A^{-1} A = E $</center>\n",
    "$$ w' = P^{-1} (X^T X)^{-1} E X^T y $$\n",
    "<br>\n",
    "<center>Согласно свойству $ AE = EA = A $ и так как $ w = (X^T X)^{-1} X^T y $</center>\n",
    "$$ w' = P^{-1} w $$\n",
    "<br>\n",
    "<center>Согласно предположению выше,<br>\n",
    "доказано, что $ a = a' $</center>\n",
    "</div>"
   ]
  },
  {
   "cell_type": "markdown",
   "metadata": {},
   "source": [
    "### Ответ\n",
    "\n",
    "Из обоснования ясно, что предсказания не меняются при умножении матрицы признаков на обратимую матрицу.<br>\n",
    "$$\n",
    "a\\scriptscriptstyle 1 \\textstyle = a\n",
    "$$"
   ]
  },
  {
   "cell_type": "markdown",
   "metadata": {},
   "source": [
    "## Алгоритм преобразования"
   ]
  },
  {
   "cell_type": "markdown",
   "metadata": {},
   "source": [
    "**Алгоритм**\n",
    "\n",
    "Исходя из ответа прошлой задачи  \n",
    "<i>«Изменится ли качество линейной регрессии при умножении признаков на обратимую матрицу?»</i>  \n",
    "Можно использовать умножение признаков на обратимую матрицу для того, чтобы защитить данные пользователей.  "
   ]
  },
  {
   "cell_type": "markdown",
   "metadata": {},
   "source": [
    "**Обоснование**\n",
    "\n",
    "Так как выше мы пришли к тому, что предсказания не изменятся на защищённых данных,  \n",
    "то алгоритм является легитимным. "
   ]
  },
  {
   "cell_type": "markdown",
   "metadata": {},
   "source": [
    "## Проверка алгоритма\n",
    "\n",
    "Проверка, что качество линейной регрессии из `sklearn` не отличается до и после преобразования с помощью метрики `R2`."
   ]
  },
  {
   "cell_type": "code",
   "execution_count": 15,
   "metadata": {},
   "outputs": [],
   "source": [
    "model = LinearRegression()\n",
    "\n",
    "def show_r2_score(features, target):\n",
    "    model.fit(features, target)\n",
    "    predictions = model.predict(features)\n",
    "    return r2_score(target, predictions)"
   ]
  },
  {
   "cell_type": "code",
   "execution_count": 16,
   "metadata": {},
   "outputs": [
    {
     "name": "stdout",
     "output_type": "stream",
     "text": [
      "Метрика R2 на исходных данных: 43.02%\n",
      "Метрика R2 на защищённых данных: 43.02%\n",
      "Разница метрик: 0.212 × 10⁻¹³\n"
     ]
    }
   ],
   "source": [
    "r2_orginal = show_r2_score(features, target)\n",
    "r2_test = show_r2_score(test_features, target)\n",
    "r2_difference = r2_orginal - r2_test\n",
    "print(\n",
    "    f'Метрика R2 на исходных данных: {r2_orginal:0.2%}\\n'\n",
    "    f'Метрика R2 на защищённых данных: {r2_test:0.2%}\\n'\n",
    "    f'Разница метрик: {r2_difference * 1e13:0.3f} × 10⁻¹³'\n",
    ")"
   ]
  },
  {
   "cell_type": "markdown",
   "metadata": {
    "pycharm": {
     "name": "#%% md\n"
    }
   },
   "source": [
    "***\n",
    "## Общий вывод\n",
    "\n",
    "* Качество модели не меняется при защите данных путём умножения признаков на обратимую матрицу.\n",
    "* Есть небольшая разница в показателях коэффициента детерминации (R2),  \n",
    "    которую можно объяснить погрешностью при операциях с числами с плавающей точкой.<br><br>\n",
    "***"
   ]
  }
 ],
 "metadata": {
  "ExecuteTimeLog": [
   {
    "duration": 1454,
    "start_time": "2022-05-16T20:22:00.336Z"
   },
   {
    "duration": 16,
    "start_time": "2022-05-16T20:22:43.978Z"
   },
   {
    "duration": 19,
    "start_time": "2022-05-16T20:22:50.267Z"
   },
   {
    "duration": 24,
    "start_time": "2022-05-16T20:23:01.604Z"
   },
   {
    "duration": 37,
    "start_time": "2022-05-16T20:23:44.001Z"
   },
   {
    "duration": 6,
    "start_time": "2022-05-16T20:32:42.404Z"
   },
   {
    "duration": 5,
    "start_time": "2022-05-16T20:33:12.284Z"
   },
   {
    "duration": 5,
    "start_time": "2022-05-16T20:33:12.941Z"
   },
   {
    "duration": 15,
    "start_time": "2022-05-16T20:33:23.326Z"
   },
   {
    "duration": 13,
    "start_time": "2022-05-16T20:34:43.136Z"
   },
   {
    "duration": 8,
    "start_time": "2022-05-16T20:34:47.278Z"
   },
   {
    "duration": 9,
    "start_time": "2022-05-16T20:35:16.571Z"
   },
   {
    "duration": 7,
    "start_time": "2022-05-16T20:36:42.727Z"
   },
   {
    "duration": 8,
    "start_time": "2022-05-16T20:37:51.483Z"
   },
   {
    "duration": 12,
    "start_time": "2022-05-16T20:38:04.804Z"
   },
   {
    "duration": 5,
    "start_time": "2022-05-16T20:39:39.894Z"
   },
   {
    "duration": 9,
    "start_time": "2022-05-16T20:39:48.417Z"
   },
   {
    "duration": 7,
    "start_time": "2022-05-16T20:40:00.297Z"
   },
   {
    "duration": 1548,
    "start_time": "2022-05-16T20:40:08.381Z"
   },
   {
    "duration": 21,
    "start_time": "2022-05-16T20:40:09.932Z"
   },
   {
    "duration": 22,
    "start_time": "2022-05-16T20:40:09.957Z"
   },
   {
    "duration": 23,
    "start_time": "2022-05-16T20:40:09.983Z"
   },
   {
    "duration": 70,
    "start_time": "2022-05-16T20:40:10.009Z"
   },
   {
    "duration": 6,
    "start_time": "2022-05-16T20:40:10.081Z"
   },
   {
    "duration": 6,
    "start_time": "2022-05-16T20:40:10.089Z"
   },
   {
    "duration": 17,
    "start_time": "2022-05-16T20:40:10.097Z"
   },
   {
    "duration": 35,
    "start_time": "2022-05-16T20:40:10.117Z"
   },
   {
    "duration": 18,
    "start_time": "2022-05-16T20:40:10.157Z"
   },
   {
    "duration": 8,
    "start_time": "2022-05-16T20:40:10.177Z"
   },
   {
    "duration": 7,
    "start_time": "2022-05-16T20:40:10.187Z"
   },
   {
    "duration": 13,
    "start_time": "2022-05-16T20:40:29.363Z"
   },
   {
    "duration": 13,
    "start_time": "2022-05-16T20:40:54.512Z"
   },
   {
    "duration": 5,
    "start_time": "2022-05-16T20:47:00.639Z"
   },
   {
    "duration": 7,
    "start_time": "2022-05-16T20:47:01.109Z"
   },
   {
    "duration": 5,
    "start_time": "2022-05-16T20:48:05.845Z"
   },
   {
    "duration": 136,
    "start_time": "2022-05-16T21:00:22.687Z"
   },
   {
    "duration": 3,
    "start_time": "2022-05-16T21:00:37.503Z"
   },
   {
    "duration": 4,
    "start_time": "2022-05-16T21:00:41.814Z"
   },
   {
    "duration": 5,
    "start_time": "2022-05-16T21:00:46.725Z"
   },
   {
    "duration": 7,
    "start_time": "2022-05-16T21:01:38.754Z"
   },
   {
    "duration": 7,
    "start_time": "2022-05-16T21:01:52.480Z"
   },
   {
    "duration": 21,
    "start_time": "2022-05-16T21:02:32.354Z"
   },
   {
    "duration": 30,
    "start_time": "2022-05-16T21:04:45.523Z"
   },
   {
    "duration": 1445,
    "start_time": "2022-05-16T21:06:04.159Z"
   },
   {
    "duration": 16,
    "start_time": "2022-05-16T21:06:05.608Z"
   },
   {
    "duration": 33,
    "start_time": "2022-05-16T21:06:05.626Z"
   },
   {
    "duration": 27,
    "start_time": "2022-05-16T21:06:05.663Z"
   },
   {
    "duration": 61,
    "start_time": "2022-05-16T21:06:05.693Z"
   },
   {
    "duration": 11,
    "start_time": "2022-05-16T21:06:05.757Z"
   },
   {
    "duration": 11,
    "start_time": "2022-05-16T21:06:05.771Z"
   },
   {
    "duration": 8,
    "start_time": "2022-05-16T21:06:05.784Z"
   },
   {
    "duration": 9,
    "start_time": "2022-05-16T21:06:05.795Z"
   },
   {
    "duration": 12,
    "start_time": "2022-05-16T21:06:05.809Z"
   },
   {
    "duration": 23,
    "start_time": "2022-05-16T21:06:05.852Z"
   },
   {
    "duration": 8,
    "start_time": "2022-05-16T21:06:05.877Z"
   },
   {
    "duration": 33,
    "start_time": "2022-05-16T21:06:05.887Z"
   },
   {
    "duration": 30,
    "start_time": "2022-05-16T21:06:39.373Z"
   },
   {
    "duration": 30,
    "start_time": "2022-05-16T21:06:40.427Z"
   },
   {
    "duration": 31,
    "start_time": "2022-05-16T21:06:41.265Z"
   },
   {
    "duration": 31,
    "start_time": "2022-05-16T21:06:41.957Z"
   },
   {
    "duration": 31,
    "start_time": "2022-05-16T21:06:42.628Z"
   },
   {
    "duration": 30,
    "start_time": "2022-05-16T21:06:43.292Z"
   },
   {
    "duration": 32,
    "start_time": "2022-05-16T21:06:43.831Z"
   },
   {
    "duration": 33,
    "start_time": "2022-05-16T21:06:45.023Z"
   },
   {
    "duration": 32,
    "start_time": "2022-05-16T21:06:45.644Z"
   },
   {
    "duration": 32,
    "start_time": "2022-05-16T21:06:46.332Z"
   },
   {
    "duration": 31,
    "start_time": "2022-05-16T21:06:46.923Z"
   },
   {
    "duration": 29,
    "start_time": "2022-05-16T21:06:47.765Z"
   },
   {
    "duration": 29,
    "start_time": "2022-05-16T21:06:48.478Z"
   },
   {
    "duration": 30,
    "start_time": "2022-05-16T21:06:49.102Z"
   },
   {
    "duration": 37,
    "start_time": "2022-05-16T21:06:49.732Z"
   },
   {
    "duration": 30,
    "start_time": "2022-05-16T21:06:50.308Z"
   },
   {
    "duration": 37,
    "start_time": "2022-05-16T21:06:50.939Z"
   },
   {
    "duration": 29,
    "start_time": "2022-05-16T21:06:53.574Z"
   },
   {
    "duration": 29,
    "start_time": "2022-05-16T21:06:55.293Z"
   },
   {
    "duration": 30,
    "start_time": "2022-05-16T21:07:21.066Z"
   },
   {
    "duration": 30,
    "start_time": "2022-05-16T21:07:21.704Z"
   },
   {
    "duration": 33,
    "start_time": "2022-05-16T21:07:22.336Z"
   },
   {
    "duration": 31,
    "start_time": "2022-05-16T21:07:22.817Z"
   },
   {
    "duration": 32,
    "start_time": "2022-05-16T21:07:23.265Z"
   },
   {
    "duration": 30,
    "start_time": "2022-05-16T21:07:23.695Z"
   },
   {
    "duration": 31,
    "start_time": "2022-05-16T21:07:24.096Z"
   },
   {
    "duration": 29,
    "start_time": "2022-05-16T21:07:24.505Z"
   },
   {
    "duration": 31,
    "start_time": "2022-05-16T21:07:24.880Z"
   },
   {
    "duration": 31,
    "start_time": "2022-05-16T21:07:25.193Z"
   },
   {
    "duration": 31,
    "start_time": "2022-05-16T21:07:25.498Z"
   },
   {
    "duration": 31,
    "start_time": "2022-05-16T21:07:25.801Z"
   },
   {
    "duration": 30,
    "start_time": "2022-05-16T21:07:26.097Z"
   },
   {
    "duration": 32,
    "start_time": "2022-05-16T21:07:26.352Z"
   },
   {
    "duration": 30,
    "start_time": "2022-05-16T21:07:26.600Z"
   },
   {
    "duration": 32,
    "start_time": "2022-05-16T21:07:26.849Z"
   },
   {
    "duration": 32,
    "start_time": "2022-05-16T21:07:27.113Z"
   },
   {
    "duration": 33,
    "start_time": "2022-05-16T21:07:27.376Z"
   },
   {
    "duration": 38,
    "start_time": "2022-05-16T21:07:27.641Z"
   },
   {
    "duration": 33,
    "start_time": "2022-05-16T21:07:27.905Z"
   },
   {
    "duration": 32,
    "start_time": "2022-05-16T21:07:28.193Z"
   },
   {
    "duration": 31,
    "start_time": "2022-05-16T21:07:28.480Z"
   },
   {
    "duration": 33,
    "start_time": "2022-05-16T21:07:28.745Z"
   },
   {
    "duration": 34,
    "start_time": "2022-05-16T21:07:29.025Z"
   },
   {
    "duration": 35,
    "start_time": "2022-05-16T21:07:49.965Z"
   },
   {
    "duration": 31,
    "start_time": "2022-05-16T21:07:52.451Z"
   },
   {
    "duration": 36,
    "start_time": "2022-05-16T21:07:52.924Z"
   },
   {
    "duration": 37,
    "start_time": "2022-05-16T21:07:53.324Z"
   },
   {
    "duration": 29,
    "start_time": "2022-05-16T21:07:53.715Z"
   },
   {
    "duration": 31,
    "start_time": "2022-05-16T21:07:54.107Z"
   },
   {
    "duration": 32,
    "start_time": "2022-05-16T21:07:54.532Z"
   },
   {
    "duration": 33,
    "start_time": "2022-05-16T21:07:54.916Z"
   },
   {
    "duration": 30,
    "start_time": "2022-05-16T21:07:55.315Z"
   },
   {
    "duration": 30,
    "start_time": "2022-05-16T21:07:55.693Z"
   },
   {
    "duration": 30,
    "start_time": "2022-05-16T21:07:56.084Z"
   },
   {
    "duration": 31,
    "start_time": "2022-05-16T21:08:32.168Z"
   },
   {
    "duration": 29,
    "start_time": "2022-05-16T21:08:32.865Z"
   },
   {
    "duration": 32,
    "start_time": "2022-05-16T21:08:33.439Z"
   },
   {
    "duration": 29,
    "start_time": "2022-05-16T21:08:33.976Z"
   },
   {
    "duration": 30,
    "start_time": "2022-05-16T21:08:34.480Z"
   },
   {
    "duration": 30,
    "start_time": "2022-05-16T21:10:32.414Z"
   },
   {
    "duration": 13,
    "start_time": "2022-05-16T21:10:40.695Z"
   },
   {
    "duration": 133,
    "start_time": "2022-05-16T21:16:52.900Z"
   },
   {
    "duration": 16,
    "start_time": "2022-05-16T21:16:59.175Z"
   },
   {
    "duration": 30,
    "start_time": "2022-05-16T21:17:28.557Z"
   },
   {
    "duration": 11,
    "start_time": "2022-05-16T21:37:03.966Z"
   },
   {
    "duration": 20,
    "start_time": "2022-05-16T21:37:10.552Z"
   },
   {
    "duration": 14,
    "start_time": "2022-05-16T21:37:24.753Z"
   },
   {
    "duration": 34,
    "start_time": "2022-05-22T13:48:08.826Z"
   },
   {
    "duration": 60,
    "start_time": "2022-05-22T20:13:42.656Z"
   },
   {
    "duration": 905,
    "start_time": "2022-05-22T20:13:49.279Z"
   },
   {
    "duration": 99,
    "start_time": "2022-05-22T20:13:50.186Z"
   },
   {
    "duration": 66,
    "start_time": "2022-05-22T20:13:50.288Z"
   },
   {
    "duration": 15,
    "start_time": "2022-05-22T20:13:50.355Z"
   },
   {
    "duration": 35,
    "start_time": "2022-05-22T20:13:50.373Z"
   },
   {
    "duration": 3,
    "start_time": "2022-05-22T20:13:50.409Z"
   },
   {
    "duration": 5,
    "start_time": "2022-05-22T20:13:50.414Z"
   },
   {
    "duration": 4,
    "start_time": "2022-05-22T20:13:50.420Z"
   },
   {
    "duration": 7,
    "start_time": "2022-05-22T20:13:50.426Z"
   },
   {
    "duration": 7,
    "start_time": "2022-05-22T20:13:50.435Z"
   },
   {
    "duration": 9,
    "start_time": "2022-05-22T20:13:50.443Z"
   },
   {
    "duration": 4,
    "start_time": "2022-05-22T20:13:50.453Z"
   },
   {
    "duration": 49,
    "start_time": "2022-05-22T20:13:50.458Z"
   },
   {
    "duration": 8,
    "start_time": "2022-05-22T20:13:50.509Z"
   },
   {
    "duration": 5,
    "start_time": "2022-05-22T20:13:50.519Z"
   },
   {
    "duration": 80,
    "start_time": "2022-05-22T20:13:50.526Z"
   },
   {
    "duration": 3,
    "start_time": "2022-05-22T20:18:27.524Z"
   },
   {
    "duration": 12,
    "start_time": "2022-05-22T20:20:51.249Z"
   },
   {
    "duration": 9,
    "start_time": "2022-05-22T20:21:05.965Z"
   },
   {
    "duration": 8,
    "start_time": "2022-05-22T20:21:17.996Z"
   },
   {
    "duration": 12,
    "start_time": "2022-05-22T20:21:24.407Z"
   },
   {
    "duration": 10,
    "start_time": "2022-05-22T20:26:11.222Z"
   },
   {
    "duration": 11,
    "start_time": "2022-05-22T20:27:07.397Z"
   },
   {
    "duration": 7,
    "start_time": "2022-05-22T20:27:22.208Z"
   },
   {
    "duration": 8,
    "start_time": "2022-05-22T20:27:29.660Z"
   },
   {
    "duration": 9,
    "start_time": "2022-05-22T20:27:35.441Z"
   },
   {
    "duration": 10,
    "start_time": "2022-05-22T20:28:03.235Z"
   },
   {
    "duration": 51,
    "start_time": "2022-05-22T20:29:31.950Z"
   },
   {
    "duration": 41,
    "start_time": "2022-05-22T20:30:01.346Z"
   },
   {
    "duration": 10,
    "start_time": "2022-05-22T20:30:06.791Z"
   },
   {
    "duration": 12,
    "start_time": "2022-05-22T20:30:26.445Z"
   },
   {
    "duration": 8,
    "start_time": "2022-05-22T20:30:54.093Z"
   },
   {
    "duration": 16,
    "start_time": "2022-05-22T20:31:16.016Z"
   },
   {
    "duration": 9,
    "start_time": "2022-05-22T20:31:25.528Z"
   },
   {
    "duration": 342,
    "start_time": "2022-05-22T20:33:51.153Z"
   },
   {
    "duration": 71,
    "start_time": "2022-05-22T20:34:34.132Z"
   },
   {
    "duration": 63,
    "start_time": "2022-05-22T20:34:53.640Z"
   },
   {
    "duration": 13,
    "start_time": "2022-05-22T20:35:10.482Z"
   },
   {
    "duration": 17,
    "start_time": "2022-05-22T20:35:14.247Z"
   },
   {
    "duration": 8,
    "start_time": "2022-05-22T20:35:32.916Z"
   },
   {
    "duration": 997,
    "start_time": "2022-05-22T21:51:50.200Z"
   },
   {
    "duration": 39,
    "start_time": "2022-05-22T21:51:51.200Z"
   },
   {
    "duration": 80,
    "start_time": "2022-05-22T21:51:51.242Z"
   },
   {
    "duration": 21,
    "start_time": "2022-05-22T21:51:51.325Z"
   },
   {
    "duration": 36,
    "start_time": "2022-05-22T21:51:51.348Z"
   },
   {
    "duration": 4,
    "start_time": "2022-05-22T21:51:51.386Z"
   },
   {
    "duration": 5,
    "start_time": "2022-05-22T21:51:51.401Z"
   },
   {
    "duration": 9,
    "start_time": "2022-05-22T21:51:51.407Z"
   },
   {
    "duration": 12,
    "start_time": "2022-05-22T21:51:51.417Z"
   },
   {
    "duration": 7,
    "start_time": "2022-05-22T21:51:51.432Z"
   },
   {
    "duration": 12,
    "start_time": "2022-05-22T21:51:51.441Z"
   },
   {
    "duration": 11,
    "start_time": "2022-05-22T21:51:51.455Z"
   },
   {
    "duration": 51,
    "start_time": "2022-05-22T21:51:51.468Z"
   },
   {
    "duration": 9,
    "start_time": "2022-05-22T21:51:51.521Z"
   },
   {
    "duration": 8,
    "start_time": "2022-05-22T21:51:51.532Z"
   },
   {
    "duration": 71,
    "start_time": "2022-05-22T21:51:51.541Z"
   },
   {
    "duration": 895,
    "start_time": "2022-05-25T20:00:52.839Z"
   },
   {
    "duration": 134,
    "start_time": "2022-05-25T20:00:53.736Z"
   },
   {
    "duration": 58,
    "start_time": "2022-05-25T20:00:53.876Z"
   },
   {
    "duration": 28,
    "start_time": "2022-05-25T20:00:53.936Z"
   },
   {
    "duration": 48,
    "start_time": "2022-05-25T20:00:53.966Z"
   },
   {
    "duration": 3,
    "start_time": "2022-05-25T20:00:54.015Z"
   },
   {
    "duration": 7,
    "start_time": "2022-05-25T20:00:54.019Z"
   },
   {
    "duration": 6,
    "start_time": "2022-05-25T20:00:54.028Z"
   },
   {
    "duration": 7,
    "start_time": "2022-05-25T20:00:54.035Z"
   },
   {
    "duration": 8,
    "start_time": "2022-05-25T20:00:54.043Z"
   },
   {
    "duration": 12,
    "start_time": "2022-05-25T20:00:54.053Z"
   },
   {
    "duration": 24,
    "start_time": "2022-05-25T20:00:54.071Z"
   },
   {
    "duration": 31,
    "start_time": "2022-05-25T20:00:54.097Z"
   },
   {
    "duration": 7,
    "start_time": "2022-05-25T20:00:54.129Z"
   },
   {
    "duration": 4,
    "start_time": "2022-05-25T20:00:54.138Z"
   },
   {
    "duration": 116,
    "start_time": "2022-05-25T20:00:54.143Z"
   }
  ],
  "kernelspec": {
   "display_name": "Python 3 (ipykernel)",
   "language": "python",
   "name": "python3"
  },
  "language_info": {
   "codemirror_mode": {
    "name": "ipython",
    "version": 3
   },
   "file_extension": ".py",
   "mimetype": "text/x-python",
   "name": "python",
   "nbconvert_exporter": "python",
   "pygments_lexer": "ipython3",
   "version": "3.9.5"
  },
  "toc": {
   "base_numbering": 1,
   "nav_menu": {},
   "number_sections": true,
   "sideBar": true,
   "skip_h1_title": true,
   "title_cell": "Содержание",
   "title_sidebar": "Contents",
   "toc_cell": false,
   "toc_position": {},
   "toc_section_display": true,
   "toc_window_display": true
  }
 },
 "nbformat": 4,
 "nbformat_minor": 2
}